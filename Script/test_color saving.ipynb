{
 "cells": [
  {
   "cell_type": "code",
   "execution_count": 1,
   "metadata": {},
   "outputs": [],
   "source": [
    "import rasterio as rio"
   ]
  },
  {
   "cell_type": "code",
   "execution_count": 19,
   "metadata": {},
   "outputs": [],
   "source": [
    "\n",
    "with rio.Env():\n",
    "    \n",
    "    with rio.open('Output/Pred/Batch/DiSCOV_InvaSea_V3/Gafanha_Low_DiSCOV_InvaSea_V3_pred.tif',\"r+\") as dst:\n",
    "        dst.write_colormap(1, \n",
    "                        {\n",
    "                        0: (0, 0, 0, 0),\n",
    "                        1: (255, 147, 5, 255),\n",
    "                        2: (58, 236, 22, 255),\n",
    "                        3: (6, 129, 39, 255),\n",
    "                        4: (141, 87, 7, 255),\n",
    "                        5: (255, 0, 4, 255),\n",
    "                        6: (121, 122, 121, 255),\n",
    "                        7: (255, 255, 255, 255),\n",
    "                        8: (2, 27, 255, 255),\n",
    "                        9: (0, 0, 0, 0),\n",
    "                        10: (0, 0, 0, 0) \n",
    "                        })\n"
   ]
  }
 ],
 "metadata": {
  "kernelspec": {
   "display_name": "NN_env",
   "language": "python",
   "name": "python3"
  },
  "language_info": {
   "codemirror_mode": {
    "name": "ipython",
    "version": 3
   },
   "file_extension": ".py",
   "mimetype": "text/x-python",
   "name": "python",
   "nbconvert_exporter": "python",
   "pygments_lexer": "ipython3",
   "version": "3.10.14"
  }
 },
 "nbformat": 4,
 "nbformat_minor": 2
}
