{
 "cells": [
  {
   "cell_type": "markdown",
   "metadata": {},
   "source": [
    "# Updating Training data\n",
    "\n",
    "## Requierement\n",
    "\n",
    "- An orthoimage from the Micasense RedEdge Dual MX multispectral camera, coded as a 16-bit integer (values ranging from 0 to 10000)\n",
    "- A shapefile of the new training data, containing at least one column named \"True_Class\", which holds the name of the class of the polygon."
   ]
  },
  {
   "cell_type": "code",
   "execution_count": 53,
   "metadata": {},
   "outputs": [],
   "source": [
    "from osgeo import gdal, ogr\n",
    "from fastbook import *\n",
    "from math import floor\n",
    "\n",
    "\n"
   ]
  },
  {
   "cell_type": "markdown",
   "metadata": {},
   "source": [
    "### Data opening"
   ]
  },
  {
   "cell_type": "code",
   "execution_count": 43,
   "metadata": {},
   "outputs": [],
   "source": [
    "training_raster = \"Belon_1104_MS\"\n",
    "training_shp = \"../Data/shp/Training_Belon_1104/Training_Belon_1104.shp\""
   ]
  },
  {
   "cell_type": "code",
   "execution_count": 49,
   "metadata": {},
   "outputs": [],
   "source": [
    "old_training_data = pd.read_csv(\"../Data/Training/DISCOV_BiCOME_Training_reframed.csv\", low_memory=False,sep=\";\")\n",
    "\n",
    "training_rast = gdal.Open('../Data/img/' + training_raster + '.tif')\n",
    "num_bands = training_rast.RasterCount\n",
    "\n",
    "gt_forward = training_rast.GetGeoTransform()\n",
    "gt_reverse = gdal.InvGeoTransform(gt_forward)\n",
    "\n",
    "rb = []  # A list to hold all the raster bands\n",
    "\n",
    "for band_num in range(1, 10):\n",
    "    rb.append(training_rast.GetRasterBand(band_num))\n",
    "\n",
    "shapefile = ogr.Open(training_shp)\n",
    "layer = shapefile.GetLayer()\n",
    "\n",
    "pixel_values = [] "
   ]
  },
  {
   "cell_type": "code",
   "execution_count": null,
   "metadata": {},
   "outputs": [],
   "source": [
    "for feat in layer:\n",
    "    fid = feat.GetFID()  # Get the feature ID\n",
    "    geom = feat.GetGeometryRef()\n",
    "    mx, my = geom.GetX(), geom.GetY()  # Coordinates in map units\n",
    "\n",
    "    # Convert from map to pixel coordinates\n",
    "    px, py = gdal.ApplyGeoTransform(gt_reverse, mx, my)\n",
    "    px = floor(px)  # X pixel\n",
    "    py = floor(py)  # Y pixel\n",
    "\n",
    "    # Read pixel values for all bands and store in a list along with feature ID\n",
    "    pixel_values_for_feature = [fid]\n",
    "    for band_num in range(1,10):\n",
    "        intval = rb[band_num - 1].ReadAsArray(px, py, 1, 1)\n",
    "        pixel_values_for_feature.append(intval[0][0])\n",
    "\n",
    "    pixel_values.append(pixel_values_for_feature)\n",
    "\n",
    "# Print the resulting array\n",
    "for row in pixel_values:\n",
    "    print(row)\n"
   ]
  },
  {
   "cell_type": "code",
   "execution_count": 38,
   "metadata": {},
   "outputs": [
    {
     "data": {
      "text/plain": [
       "range(1, 11)"
      ]
     },
     "execution_count": 38,
     "metadata": {},
     "output_type": "execute_result"
    }
   ],
   "source": []
  },
  {
   "cell_type": "code",
   "execution_count": 60,
   "metadata": {},
   "outputs": [],
   "source": [
    "import rasterio\n",
    "from rasterio.mask import mask\n",
    "import geopandas as gpd\n",
    "from shapely.geometry import mapping\n"
   ]
  },
  {
   "cell_type": "code",
   "execution_count": 61,
   "metadata": {},
   "outputs": [],
   "source": [
    "\n",
    "\n",
    "shapefile = gpd.read_file(training_shp)\n",
    "# extract the geometry in GeoJSON format\n",
    "geoms = shapefile.geometry.values # list of shapely geometries\n",
    "geometry = geoms[0] # shapely geometry\n",
    "# transform to GeJSON format\n",
    "\n",
    "geoms = [mapping(geoms[0])]\n",
    "# extract the raster values values within the polygon \n",
    "with rasterio.open('../Data/img/' + training_raster + '.tif') as src:\n",
    "     out_image, out_transform = mask(src, geoms, crop=True)"
   ]
  },
  {
   "cell_type": "code",
   "execution_count": 67,
   "metadata": {},
   "outputs": [
    {
     "data": {
      "text/plain": [
       "<memory at 0x0000022B03D01030>"
      ]
     },
     "execution_count": 67,
     "metadata": {},
     "output_type": "execute_result"
    }
   ],
   "source": [
    "data = out_image.data\n",
    "data"
   ]
  }
 ],
 "metadata": {
  "kernelspec": {
   "display_name": "base",
   "language": "python",
   "name": "python3"
  },
  "language_info": {
   "codemirror_mode": {
    "name": "ipython",
    "version": 3
   },
   "file_extension": ".py",
   "mimetype": "text/x-python",
   "name": "python",
   "nbconvert_exporter": "python",
   "pygments_lexer": "ipython3",
   "version": "3.10.14"
  }
 },
 "nbformat": 4,
 "nbformat_minor": 2
}
