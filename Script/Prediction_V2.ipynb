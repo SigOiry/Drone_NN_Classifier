{
 "cells": [
  {
   "cell_type": "markdown",
   "metadata": {},
   "source": [
    "# Prediction on bigger flight (Raster) with New Full Model"
   ]
  },
  {
   "cell_type": "code",
   "execution_count": null,
   "metadata": {},
   "outputs": [],
   "source": [
    "#hide\n",
    "\n",
    "from osgeo import gdal\n",
    "\n",
    "from fastbook import *\n",
    "from pandas.api.types import is_string_dtype, is_numeric_dtype, is_categorical_dtype\n",
    "from fastai.tabular.all import *\n",
    "pd.options.display.max_rows = 20\n",
    "pd.options.display.max_columns = 8\n",
    "import numpy as np\n",
    "from matplotlib import colors\n",
    "import rasterio as rio\n",
    "import matplotlib.pyplot as plt\n",
    "import warnings\n",
    "import pandas as pd\n",
    "warnings.filterwarnings(\"ignore\")\n",
    "\n",
    "def scaleMinMax(x):\n",
    "    return((x-np.nanmin(x))/(np.nanmax(x)-np.nanmin(x)))\n",
    "\n",
    "def scaleCCC(x):\n",
    "    return((x- np.nanpercentile(x,0))/(np.nanpercentile(x,98)-np.nanpercentile(x,0)))\n",
    "\n"
   ]
  },
  {
   "cell_type": "markdown",
   "metadata": {},
   "source": [
    "# Set input and Output filename "
   ]
  },
  {
   "cell_type": "code",
   "execution_count": null,
   "metadata": {},
   "outputs": [
    {
     "data": {
      "text/plain": [
       "['Bacillariophyceae', 'Chlorophyta', 'Magnoliopsida', 'Phaeophyta', 'Rhodophyta', 'Sediment', 'SunGlint', 'Water']"
      ]
     },
     "metadata": {},
     "output_type": "display_data"
    }
   ],
   "source": [
    "filename = \"Belon_1004_MS\"\n",
    "output_name = \"Belon_1004_MS_invasea_V3_reframed\"\n",
    "\n",
    "learn = load_learner('../models/DISCOV_Invasea_V3.pkl')\n",
    "categories = learn.dls.vocab\n",
    "categories"
   ]
  },
  {
   "cell_type": "code",
   "execution_count": null,
   "metadata": {},
   "outputs": [],
   "source": [
    "img = '../Data/img/' + filename + '.tif'\n",
    "\n",
    "with rio.open(img, 'r') as ds:\n",
    "    arr = ds.read()  #ouvre toutes les bandes\n",
    "\n",
    "Arr_Max=np.max(arr,axis=0)\n",
    "Arr_Min=np.min(arr,axis=0)\n",
    "\n",
    "arr_std=(arr - Arr_Min)/(Arr_Max - Arr_Min)\n",
    "\n",
    "lowtif = gdal.Open('../Data/img/' + filename + '.tif')\n",
    "gt = lowtif.GetGeoTransform()\n",
    "proj = lowtif.GetProjection()"
   ]
  },
  {
   "cell_type": "code",
   "execution_count": null,
   "metadata": {},
   "outputs": [],
   "source": [
    "df = pd.DataFrame()\n",
    "df['Reflectance_444'] = arr[0].ravel()\n",
    "df['Reflectance_475'] = arr[1].ravel() \n",
    "df['Reflectance_531'] = arr[2].ravel() \n",
    "df['Reflectance_560'] = arr[3].ravel() \n",
    "df['Reflectance_650'] = arr[4].ravel() \n",
    "df['Reflectance_668'] = arr[5].ravel() \n",
    "df['Reflectance_705'] = arr[6].ravel() \n",
    "df['Reflectance_717'] = arr[7].ravel() \n",
    "df['Reflectance_740'] = arr[8].ravel() \n",
    "df['Reflectance_842'] = arr[9].ravel()"
   ]
  },
  {
   "cell_type": "code",
   "execution_count": null,
   "metadata": {},
   "outputs": [],
   "source": [
    "df.replace([0,65535], np.nan, inplace=True)\n",
    "\n",
    "df['Reflectance_Stan_444'] = arr_std[0].ravel()\n",
    "df['Reflectance_Stan_475'] = arr_std[1].ravel() \n",
    "df['Reflectance_Stan_531'] = arr_std[2].ravel() \n",
    "df['Reflectance_Stan_560'] = arr_std[3].ravel() \n",
    "df['Reflectance_Stan_650'] = arr_std[4].ravel() \n",
    "df['Reflectance_Stan_668'] = arr_std[5].ravel() \n",
    "df['Reflectance_Stan_705'] = arr_std[6].ravel() \n",
    "df['Reflectance_Stan_717'] = arr_std[7].ravel() \n",
    "df['Reflectance_Stan_740'] = arr_std[8].ravel() \n",
    "df['Reflectance_Stan_842'] = arr_std[9].ravel()"
   ]
  },
  {
   "cell_type": "code",
   "execution_count": null,
   "metadata": {},
   "outputs": [],
   "source": [
    "df['NDVI'] = (df['Reflectance_842']-df['Reflectance_650'])/(df['Reflectance_842']+df['Reflectance_650'])\n",
    "df['NDVI_Stan'] = (df['Reflectance_Stan_842']-df['Reflectance_Stan_650'])/(df['Reflectance_Stan_842']+df['Reflectance_Stan_650'])"
   ]
  },
  {
   "cell_type": "code",
   "execution_count": null,
   "metadata": {},
   "outputs": [],
   "source": [
    "### 65535 is given for NA (outside of Drone flight)\n",
    "\n",
    "Reflectance_444 = lowtif.GetRasterBand(1).ReadAsArray().astype('float')\n",
    "Reflectance_475 = lowtif.GetRasterBand(2).ReadAsArray().astype('float')\n",
    "Reflectance_531 = lowtif.GetRasterBand(3).ReadAsArray().astype('float')\n",
    "Reflectance_560 = lowtif.GetRasterBand(4).ReadAsArray().astype('float')\n",
    "Reflectance_650 = lowtif.GetRasterBand(5).ReadAsArray().astype('float')\n",
    "Reflectance_668 = lowtif.GetRasterBand(6).ReadAsArray().astype('float')\n",
    "Reflectance_705 = lowtif.GetRasterBand(7).ReadAsArray().astype('float')\n",
    "Reflectance_717 = lowtif.GetRasterBand(8).ReadAsArray().astype('float')\n",
    "Reflectance_740 = lowtif.GetRasterBand(9).ReadAsArray().astype('float')\n",
    "Reflectance_842 = lowtif.GetRasterBand(10).ReadAsArray().astype('float')\n",
    "\n",
    "Reflectance_444[Reflectance_444 == 65535] = np.NAN\n",
    "Reflectance_475[Reflectance_475 == 65535] = np.NAN\n",
    "Reflectance_531[Reflectance_531 == 65535] = np.NAN\n",
    "Reflectance_560[Reflectance_560 == 65535] = np.NAN\n",
    "Reflectance_650[Reflectance_650 == 65535] = np.NAN\n",
    "Reflectance_668[Reflectance_668 == 65535] = np.NAN\n",
    "Reflectance_705[Reflectance_705 == 65535] = np.NAN\n",
    "Reflectance_717[Reflectance_717 == 65535] = np.NAN\n",
    "Reflectance_740[Reflectance_740 == 65535] = np.NAN\n",
    "Reflectance_842[Reflectance_842 == 65535] = np.NAN\n",
    "\n",
    "Reflectance_444[Reflectance_444 == 0] = np.NAN\n",
    "Reflectance_475[Reflectance_475 == 0] = np.NAN\n",
    "Reflectance_531[Reflectance_531 == 0] = np.NAN\n",
    "Reflectance_560[Reflectance_560 == 0] = np.NAN\n",
    "Reflectance_650[Reflectance_650 == 0] = np.NAN\n",
    "Reflectance_668[Reflectance_668 == 0] = np.NAN\n",
    "Reflectance_705[Reflectance_705 == 0] = np.NAN\n",
    "Reflectance_717[Reflectance_717 == 0] = np.NAN\n",
    "Reflectance_740[Reflectance_740 == 0] = np.NAN\n",
    "Reflectance_842[Reflectance_842 == 0] = np.NAN\n",
    "\n",
    "Full = np.dstack((Reflectance_444,Reflectance_475,Reflectance_531,Reflectance_560,Reflectance_650,\n",
    "                   Reflectance_668,Reflectance_705,Reflectance_717,Reflectance_740,Reflectance_842))\n",
    "\n",
    "\n",
    "\n",
    "Full.shape"
   ]
  },
  {
   "cell_type": "code",
   "execution_count": null,
   "metadata": {},
   "outputs": [],
   "source": [
    "if os.path.isfile(\"../Data/np_arrays/\" + filename + \"_Stan.npy\"):\n",
    "    print(\"File exists! Opening the Numpy Array\")\n",
    "    FullStan = np.load(\"../Data/np_arrays/\" + filename + \"_Stan.npy\")\n",
    "else:\n",
    "    print(\"File does not exist! Perform operations on the data array...\")\n",
    "    FullStan=np.apply_along_axis(scaleMinMax, 2, Full)\n",
    "    np.save(\"../Data/np_arrays/\" + filename + \"_Stan\",FullStan)\n"
   ]
  },
  {
   "cell_type": "code",
   "execution_count": null,
   "metadata": {},
   "outputs": [],
   "source": [
    "Full_ten = torch.from_numpy(Full)\n",
    "FullStan_ten =torch.from_numpy(FullStan)"
   ]
  },
  {
   "cell_type": "code",
   "execution_count": null,
   "metadata": {},
   "outputs": [],
   "source": [
    "NDVI=(Full_ten[:,:,9]-Full_ten[:,:,5])/(Full_ten[:,:,9]+Full_ten[:,:,5])"
   ]
  },
  {
   "cell_type": "code",
   "execution_count": null,
   "metadata": {},
   "outputs": [],
   "source": [
    "NDVI=NDVI[:,:,None]"
   ]
  },
  {
   "cell_type": "code",
   "execution_count": null,
   "metadata": {},
   "outputs": [],
   "source": [
    "NDVI_Stan=(FullStan_ten[:,:,9]-FullStan_ten[:,:,5])/(FullStan_ten[:,:,9]+FullStan_ten[:,:,5])"
   ]
  },
  {
   "cell_type": "code",
   "execution_count": null,
   "metadata": {},
   "outputs": [],
   "source": [
    "NDVI_Stan=NDVI_Stan[:,:,None]"
   ]
  },
  {
   "cell_type": "code",
   "execution_count": null,
   "metadata": {},
   "outputs": [],
   "source": [
    "FullCombo_ten=torch.cat((Full_ten,FullStan_ten,NDVI,NDVI_Stan),2)"
   ]
  },
  {
   "cell_type": "code",
   "execution_count": null,
   "metadata": {},
   "outputs": [],
   "source": [
    "r = scaleCCC(Reflectance_650)\n",
    "g = scaleCCC(Reflectance_531)\n",
    "b = scaleCCC(Reflectance_444)\n",
    "\n",
    "\n",
    "rgb = np.dstack((r,g,b))"
   ]
  },
  {
   "cell_type": "code",
   "execution_count": null,
   "metadata": {},
   "outputs": [],
   "source": [
    "Reflectance_444= None\n",
    "Reflectance_475= None\n",
    "Reflectance_531= None\n",
    "Reflectance_560= None\n",
    "Reflectance_650= None\n",
    "Reflectance_668= None\n",
    "Reflectance_705= None\n",
    "Reflectance_717= None\n",
    "Reflectance_740= None\n",
    "Reflectance_842= None\n",
    "\n",
    "# B1= None\n",
    "# B2= None\n",
    "# B3= None\n",
    "# B4= None\n",
    "# B5= None\n",
    "# B6= None\n",
    "# B7= None\n",
    "# B8= None\n",
    "# B9= None\n",
    "# B10= None\n",
    "\n",
    "r= None\n",
    "g= None\n",
    "b= None\n",
    "# Full= None\n",
    "FullStan= None"
   ]
  },
  {
   "cell_type": "code",
   "execution_count": null,
   "metadata": {},
   "outputs": [],
   "source": [
    "# torch.save(FullCombo_ten,\"D:\\Git_repo\\Drone_NN_Classifier\\Output\\FullCombo_Site1_High.pt\")"
   ]
  },
  {
   "cell_type": "code",
   "execution_count": null,
   "metadata": {},
   "outputs": [],
   "source": [
    "# FullCombo_ten=torch.load(\"/Users/bfrd/Research/BigData/Nantes/Drone_Classification/Output/FullCombo_Site1_High.pt\")"
   ]
  },
  {
   "cell_type": "code",
   "execution_count": null,
   "metadata": {},
   "outputs": [],
   "source": [
    "plt.figure(figsize=(15,15))\n",
    "plt.imshow(rgb)\n",
    "plt.show()"
   ]
  },
  {
   "cell_type": "code",
   "execution_count": null,
   "metadata": {},
   "outputs": [],
   "source": [
    "Columns_test=['Reflectance_444',\n",
    "              'Reflectance_475',\n",
    "              'Reflectance_531',\n",
    "              'Reflectance_560',\n",
    "              'Reflectance_650',\n",
    "              'Reflectance_668',\n",
    "              'Reflectance_705',\n",
    "              'Reflectance_717',\n",
    "              'Reflectance_740',\n",
    "              'Reflectance_842',\n",
    "              'Reflectance_Stan_444',\n",
    "              'Reflectance_Stan_475',\n",
    "              'Reflectance_Stan_531',\n",
    "              'Reflectance_Stan_560',\n",
    "              'Reflectance_Stan_650',\n",
    "              'Reflectance_Stan_668',\n",
    "              'Reflectance_Stan_705',\n",
    "              'Reflectance_Stan_717',\n",
    "              'Reflectance_Stan_740',\n",
    "              'Reflectance_Stan_842',\n",
    "              'NDVI',\n",
    "              'NDVI_Stan']\n"
   ]
  },
  {
   "cell_type": "code",
   "execution_count": null,
   "metadata": {},
   "outputs": [],
   "source": [
    "v = FullCombo_ten.view(FullCombo_ten.shape[0]*FullCombo_ten.shape[1],FullCombo_ten.shape[2])"
   ]
  },
  {
   "cell_type": "code",
   "execution_count": null,
   "metadata": {},
   "outputs": [],
   "source": [
    "# torch.save(v,\"/Users/bfrd/Research/BigData/Nantes/Drone_Classification/Output/FullCombo_Long_Site1_High.pt\")"
   ]
  },
  {
   "cell_type": "code",
   "execution_count": null,
   "metadata": {},
   "outputs": [],
   "source": [
    "# v=torch.load(\"/Users/bfrd/Research/BigData/Nantes/Drone_Classification/Output/FullCombo_Long_Site1_High.pt\")"
   ]
  },
  {
   "cell_type": "code",
   "execution_count": null,
   "metadata": {},
   "outputs": [],
   "source": [
    "v.shape"
   ]
  },
  {
   "cell_type": "code",
   "execution_count": null,
   "metadata": {},
   "outputs": [],
   "source": [
    "df_test_nan=pd.DataFrame(v,columns=Columns_test)\n",
    "df_test_nan_nrum = df_test_nan"
   ]
  },
  {
   "cell_type": "code",
   "execution_count": null,
   "metadata": {},
   "outputs": [],
   "source": [
    "# df_test_nan.to_parquet(\"/Users/bfrd/Research/BigData/Nantes/Drone_Classification/Output/df_test_nan_Site1_High.parquet\")"
   ]
  },
  {
   "cell_type": "code",
   "execution_count": null,
   "metadata": {},
   "outputs": [],
   "source": [
    "# df_test_nan_nrum.to_parquet(\"/Users/bfrd/Research/BigData/Nantes/Drone_Classification/Output/df_test_nan_nrum_Site1_High.parquet\")"
   ]
  },
  {
   "cell_type": "code",
   "execution_count": null,
   "metadata": {},
   "outputs": [],
   "source": [
    "# df_test_nan=pd.read_parquet(\"/Users/bfrd/Research/BigData/Nantes/Drone_Classification/Output/df_test_nan_Site1_High.parquet\")\n",
    "# df_test_nan_nrum=pd.read_parquet(\"/Users/bfrd/Research/BigData/Nantes/Drone_Classification/Output/df_test_nan_nrum_Site1_High.parquet\")"
   ]
  },
  {
   "cell_type": "code",
   "execution_count": null,
   "metadata": {},
   "outputs": [],
   "source": [
    "df_test = df_test_nan.dropna()"
   ]
  },
  {
   "cell_type": "code",
   "execution_count": null,
   "metadata": {},
   "outputs": [],
   "source": [
    "# df_test.to_parquet(\"/Users/bfrd/Research/BigData/Nantes/Drone_Classification/Output/df_test_Site1_High.parquet\")"
   ]
  },
  {
   "cell_type": "code",
   "execution_count": null,
   "metadata": {},
   "outputs": [],
   "source": [
    "df_test_nan_nrum['ID'] = np.arange(len(df_test_nan_nrum))\n",
    "df_test_nrum = df_test_nan_nrum.dropna()"
   ]
  },
  {
   "cell_type": "code",
   "execution_count": null,
   "metadata": {},
   "outputs": [],
   "source": [
    "# df_test_nrum.to_parquet(\"/Users/bfrd/Research/BigData/Nantes/Drone_Classification/Output/df_test_nrum_Site1_High.parquet\")"
   ]
  },
  {
   "cell_type": "code",
   "execution_count": null,
   "metadata": {},
   "outputs": [],
   "source": [
    "df_test.shape"
   ]
  },
  {
   "cell_type": "code",
   "execution_count": null,
   "metadata": {},
   "outputs": [],
   "source": [
    "ID_l=list(df_test_nrum['ID'])"
   ]
  },
  {
   "cell_type": "code",
   "execution_count": null,
   "metadata": {},
   "outputs": [],
   "source": [
    "# np.save('/Users/bfrd/Research/BigData/Nantes/Drone_Classification/Output/ID_list_Site1_High.npy',ID_l)"
   ]
  },
  {
   "cell_type": "code",
   "execution_count": null,
   "metadata": {},
   "outputs": [],
   "source": [
    "# df_test=pd.read_parquet(\"/Users/bfrd/Research/BigData/Nantes/Drone_Classification/Output/df_test_Site1_High.parquet\")"
   ]
  },
  {
   "cell_type": "code",
   "execution_count": null,
   "metadata": {},
   "outputs": [],
   "source": [
    "dl = learn.dls.test_dl(df_test, bs=4000)\n",
    "preds,_ = learn.get_preds(dl=dl)"
   ]
  },
  {
   "cell_type": "code",
   "execution_count": null,
   "metadata": {},
   "outputs": [],
   "source": [
    "# np.save('/Users/bfrd/Research/BigData/Nantes/Drone_Classification/Output/Preds_Site1_High.npy',preds)"
   ]
  },
  {
   "cell_type": "code",
   "execution_count": null,
   "metadata": {},
   "outputs": [],
   "source": [
    "# preds = np.load('/Users/bfrd/Research/BigData/Nantes/Drone_Classification/Output/Preds_Site1_High.npy').reshape(159664240,11) #131028429 = df_test.shape[0]"
   ]
  },
  {
   "cell_type": "code",
   "execution_count": null,
   "metadata": {},
   "outputs": [],
   "source": [
    "# greenAlgae_Probs=preds[:,1]"
   ]
  },
  {
   "cell_type": "code",
   "execution_count": null,
   "metadata": {},
   "outputs": [],
   "source": [
    "class_idxs = preds.argmax(axis=1)\n",
    "# res = [learn.dls.vocab[c] for c in class_idxs]"
   ]
  },
  {
   "cell_type": "code",
   "execution_count": null,
   "metadata": {},
   "outputs": [],
   "source": [
    "# np.save('/Users/bfrd/Research/BigData/Nantes/Drone_Classification/Output/class_idxs_Site1_High.npy',class_idxs)\n",
    "# np.save('/Users/bfrd/Research/BigData/Nantes/Drone_Classification/Output/res_Site1_High.npy',res)"
   ]
  },
  {
   "cell_type": "code",
   "execution_count": null,
   "metadata": {},
   "outputs": [],
   "source": [
    "# class_idxs = np.load('/Users/bfrd/Research/BigData/Nantes/Drone_Classification/Output/class_idxs_Site1_High.npy')\n",
    "# res = np.load('/Users/bfrd/Research/BigData/Nantes/Drone_Classification/Output/res_Site1_High.npy')"
   ]
  },
  {
   "cell_type": "code",
   "execution_count": null,
   "metadata": {},
   "outputs": [],
   "source": [
    "class_probs= preds.max(axis=1)"
   ]
  },
  {
   "cell_type": "code",
   "execution_count": null,
   "metadata": {},
   "outputs": [],
   "source": [
    "class_probs=class_probs.values"
   ]
  },
  {
   "cell_type": "code",
   "execution_count": null,
   "metadata": {},
   "outputs": [],
   "source": [
    "# np.save('/Users/bfrd/Research/BigData/Nantes/Drone_Classification/Output/class_probs_Site1_High.npy',class_probs)"
   ]
  },
  {
   "cell_type": "code",
   "execution_count": null,
   "metadata": {},
   "outputs": [],
   "source": [
    "# class_probs = np.load('/Users/bfrd/Research/BigData/Nantes/Drone_Classification/Output/class_probs_Site1_High.npy')"
   ]
  },
  {
   "cell_type": "markdown",
   "metadata": {},
   "source": [
    "# Prediction Plot "
   ]
  },
  {
   "cell_type": "code",
   "execution_count": null,
   "metadata": {},
   "outputs": [],
   "source": [
    "type(class_idxs.tolist())"
   ]
  },
  {
   "cell_type": "code",
   "execution_count": null,
   "metadata": {},
   "outputs": [],
   "source": [
    "NumPred= class_idxs.tolist()\n",
    "PredProbs =class_probs.tolist()"
   ]
  },
  {
   "cell_type": "code",
   "execution_count": null,
   "metadata": {},
   "outputs": [],
   "source": [
    "# ID_l = np.load('/Users/bfrd/Research/BigData/Nantes/Drone_Classification/Output/ID_list_Site1_High.npy')"
   ]
  },
  {
   "cell_type": "code",
   "execution_count": null,
   "metadata": {},
   "outputs": [],
   "source": [
    "# res_df= pd.DataFrame(list(zip(res,NumPred, ID_l,PredProbs)),columns =['Pred_Class','Pred_ID','ID','Prob'])\n",
    "res_df= pd.DataFrame(list(zip(NumPred, ID_l,PredProbs)),columns =['Pred_ID','ID','Prob'])"
   ]
  },
  {
   "cell_type": "code",
   "execution_count": null,
   "metadata": {},
   "outputs": [],
   "source": [
    "res_df"
   ]
  },
  {
   "cell_type": "code",
   "execution_count": null,
   "metadata": {},
   "outputs": [],
   "source": [
    "# res_df.to_parquet(\"/Users/bfrd/Research/BigData/Nantes/Drone_Classification/Output/res_df_Site1_High.parquet\")"
   ]
  },
  {
   "cell_type": "code",
   "execution_count": null,
   "metadata": {},
   "outputs": [],
   "source": [
    "res_df['Pred_ID'].value_counts()"
   ]
  },
  {
   "cell_type": "code",
   "execution_count": null,
   "metadata": {},
   "outputs": [],
   "source": [
    "# res_df['Pred_Class'].value_counts()"
   ]
  },
  {
   "cell_type": "code",
   "execution_count": null,
   "metadata": {},
   "outputs": [],
   "source": [
    "# res_df= pd.read_parquet('/Users/bfrd/Research/BigData/Nantes/Drone_Classification/Output/res_df_Site1_High.parquet')"
   ]
  },
  {
   "cell_type": "code",
   "execution_count": null,
   "metadata": {},
   "outputs": [],
   "source": [
    "# df_test_nan= pd.read_parquet('/Users/bfrd/Research/BigData/Nantes/Drone_Classification/Output/df_test_nan_Site1_High.parquet')"
   ]
  },
  {
   "cell_type": "code",
   "execution_count": null,
   "metadata": {},
   "outputs": [],
   "source": [
    "df_test_nan['ID']= np.arange(len(df_test_nan))"
   ]
  },
  {
   "cell_type": "code",
   "execution_count": null,
   "metadata": {},
   "outputs": [],
   "source": [
    "res_input_df = pd.merge(df_test_nan,res_df, how='left', on = 'ID')"
   ]
  },
  {
   "cell_type": "code",
   "execution_count": null,
   "metadata": {},
   "outputs": [],
   "source": [
    "res_input_df"
   ]
  },
  {
   "cell_type": "code",
   "execution_count": null,
   "metadata": {},
   "outputs": [],
   "source": [
    "# res_input_df.to_parquet(\"/Users/bfrd/Research/BigData/Nantes/Drone_Classification/Output/res_input_df_Site1_High.parquet\")"
   ]
  },
  {
   "cell_type": "code",
   "execution_count": null,
   "metadata": {},
   "outputs": [],
   "source": [
    "# res_input_df=pd.read_parquet('/Users/bfrd/Research/BigData/Nantes/Drone_Classification/Output/res_input_df_Site1_High.parquet')"
   ]
  },
  {
   "cell_type": "code",
   "execution_count": null,
   "metadata": {},
   "outputs": [],
   "source": [
    "# res_input_df['Pred_Class'] = np.where((res_input_df['Pred_Class']=='Phaeophyta') & (res_input_df['NDVI']<0.15), 'Water', res_input_df['Pred_Class'])"
   ]
  },
  {
   "cell_type": "code",
   "execution_count": null,
   "metadata": {},
   "outputs": [],
   "source": [
    "# res_input_df['Pred_ID'] = np.where((res_input_df['Pred_ID']==6) & (res_input_df['NDVI']<0.15), 9, res_input_df['Pred_ID'])"
   ]
  },
  {
   "cell_type": "code",
   "execution_count": null,
   "metadata": {},
   "outputs": [],
   "source": [
    "# res_input_df['Pred_Class'] = np.where((res_input_df['Pred_Class']=='Low_SPC') & (res_input_df['NDVI']>0.2), 'Magnoliosida', res_input_df['Pred_Class'])\n",
    "# res_input_df['Pred_ID'] = np.where((res_input_df['Pred_ID']==3) & (res_input_df['NDVI']>0.2), 5, res_input_df['Pred_ID'])\n",
    "# res_input_df['Pred_Class'] = np.where((res_input_df['Pred_Class']=='Low_SPC') & (res_input_df['NDVI']<=0.2), 'Bare_Sediment', res_input_df['Pred_Class'])\n",
    "# res_input_df['Pred_ID'] = np.where((res_input_df['Pred_ID']==3) & (res_input_df['NDVI']<=0.2), 0, res_input_df['Pred_ID'])"
   ]
  },
  {
   "cell_type": "code",
   "execution_count": null,
   "metadata": {},
   "outputs": [],
   "source": [
    "# Check it has actually worked\n",
    "res_input_df_Nan= res_input_df.dropna()\n"
   ]
  },
  {
   "cell_type": "code",
   "execution_count": null,
   "metadata": {},
   "outputs": [],
   "source": [
    "Pred_arr = np.asarray(res_input_df['Pred_ID'])"
   ]
  },
  {
   "cell_type": "code",
   "execution_count": null,
   "metadata": {},
   "outputs": [],
   "source": [
    "Pred_arr=Pred_arr+1"
   ]
  },
  {
   "cell_type": "code",
   "execution_count": null,
   "metadata": {},
   "outputs": [],
   "source": [
    "Full.shape"
   ]
  },
  {
   "cell_type": "code",
   "execution_count": null,
   "metadata": {},
   "outputs": [],
   "source": [
    "Prob_arr = np.asarray(res_input_df['Prob'])\n",
    "Prob_ras = Prob_arr.reshape(Full.shape[0], Full.shape[1])"
   ]
  },
  {
   "cell_type": "code",
   "execution_count": null,
   "metadata": {},
   "outputs": [],
   "source": [
    "Pred_ras = Pred_arr.reshape(Full.shape[0], Full.shape[1])"
   ]
  },
  {
   "cell_type": "code",
   "execution_count": null,
   "metadata": {},
   "outputs": [],
   "source": [
    "Chloro_ras = np.where(Pred_ras==2, 1, 0)"
   ]
  },
  {
   "cell_type": "code",
   "execution_count": null,
   "metadata": {},
   "outputs": [],
   "source": [
    "Zost_ras=np.where(Pred_ras==6, 1, 0)"
   ]
  },
  {
   "cell_type": "code",
   "execution_count": null,
   "metadata": {},
   "outputs": [],
   "source": [
    "fig, axes = plt.subplots(nrows=1, ncols=2,figsize=(15,15))\n",
    "# find minimum of minima & maximum of maxima\n",
    "minmin = np.min([np.min(Chloro_ras), np.min(Zost_ras)])\n",
    "maxmax = np.max([np.max(Chloro_ras), np.max(Zost_ras)])\n",
    "\n",
    "im1 = axes[0].imshow(Chloro_ras, vmin=minmin, vmax=maxmax)\n",
    "im2 = axes[1].imshow(Zost_ras, vmin=minmin, vmax=maxmax)\n",
    "plt.show()"
   ]
  },
  {
   "cell_type": "code",
   "execution_count": null,
   "metadata": {},
   "outputs": [],
   "source": [
    "categories"
   ]
  },
  {
   "cell_type": "code",
   "execution_count": null,
   "metadata": {},
   "outputs": [],
   "source": [
    "cmap = colors.ListedColormap([\"#FFFFFF\",\"#70543e\",\"#b3ff1a\",\"#389317\",\"#000000\",\"#DAA520\",\"#389318\",\"#873e23\",\"#b3002d\",\"#42c9bc\"])\n",
    "bounds=[0,1,2,3,4,5,6,7,8,9,10]\n",
    "norm = colors.BoundaryNorm(bounds, cmap.N)"
   ]
  },
  {
   "cell_type": "code",
   "execution_count": null,
   "metadata": {},
   "outputs": [],
   "source": [
    "fig, (ax1, ax2) = plt.subplots(1, 2,figsize=(20,20))\n",
    "ax1.imshow(Pred_ras, interpolation='none',\n",
    "                    cmap=cmap, norm=norm)\n",
    "ax2.imshow(rgb)\n",
    "plt.show()"
   ]
  },
  {
   "cell_type": "code",
   "execution_count": null,
   "metadata": {},
   "outputs": [],
   "source": [
    "plt.figure()\n",
    "plt.imshow(Pred_ras, interpolation='none',\n",
    "                    cmap=cmap, norm=norm)\n",
    "plt.colorbar()\n",
    "plt.show()"
   ]
  },
  {
   "cell_type": "code",
   "execution_count": null,
   "metadata": {},
   "outputs": [],
   "source": [
    "plt.figure()\n",
    "plt.imshow(Prob_ras)\n",
    "plt.colorbar()\n",
    "plt.show()"
   ]
  },
  {
   "cell_type": "code",
   "execution_count": null,
   "metadata": {},
   "outputs": [],
   "source": [
    "# AveiroLowPrediction_nnDefault =np.dstack((Pred_ras,Prob_ras))"
   ]
  },
  {
   "cell_type": "markdown",
   "metadata": {},
   "source": [
    "# Prediction Save"
   ]
  },
  {
   "cell_type": "code",
   "execution_count": null,
   "metadata": {},
   "outputs": [],
   "source": [
    "# export\n",
    "driver = gdal.GetDriverByName(\"GTiff\")\n",
    "driver.Register()\n",
    "outds = driver.Create(\"../Output/Pred/\" + output_name +\"_prob.tif\", xsize = Prob_ras.shape[1],\n",
    "                      ysize = Prob_ras.shape[0], bands = 1, \n",
    "                      eType = gdal.GDT_Float32)\n",
    "\n",
    "outds.SetGeoTransform(gt)\n",
    "outds.SetProjection(proj)\n",
    "outband = outds.GetRasterBand(1)\n",
    "outband.WriteArray(Prob_ras)\n",
    "outband.SetNoDataValue(65535)\n",
    "outband.FlushCache()\n",
    "\n",
    "# close your datasets and bands!!!\n",
    "outband = None\n",
    "outds = None\n",
    "\n",
    "driver = gdal.GetDriverByName(\"GTiff\")\n",
    "driver.Register()\n",
    "outds = driver.Create(\"../Output/Pred/\" + output_name +\"_pred.tif\", xsize = Pred_ras.shape[1],\n",
    "                      ysize = Pred_ras.shape[0], bands = 1, \n",
    "                      eType = gdal.GDT_Int16)\n",
    "outds.SetGeoTransform(gt)\n",
    "outds.SetProjection(proj)\n",
    "outband = outds.GetRasterBand(1)\n",
    "outband.WriteArray(Pred_ras)\n",
    "outband.SetNoDataValue(65535)\n",
    "outband.SetNoDataValue(32767)\n",
    "outband.FlushCache()\n",
    "# close your datasets and bands!!!\n",
    "outband = None\n",
    "outds = None"
   ]
  }
 ],
 "metadata": {
  "language_info": {
   "name": "python"
  }
 },
 "nbformat": 4,
 "nbformat_minor": 2
}
